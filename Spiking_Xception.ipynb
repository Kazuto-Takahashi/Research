{
  "nbformat": 4,
  "nbformat_minor": 0,
  "metadata": {
    "colab": {
      "provenance": [],
      "authorship_tag": "ABX9TyPKKAlfiZwzFzqohIAUFkMY",
      "include_colab_link": true
    },
    "kernelspec": {
      "name": "python3",
      "display_name": "Python 3"
    },
    "language_info": {
      "name": "python"
    }
  },
  "cells": [
    {
      "cell_type": "markdown",
      "metadata": {
        "id": "view-in-github",
        "colab_type": "text"
      },
      "source": [
        "<a href=\"https://colab.research.google.com/github/Kazuto-Takahashi/Research/blob/main/Spiking_Xception.ipynb\" target=\"_parent\"><img src=\"https://colab.research.google.com/assets/colab-badge.svg\" alt=\"Open In Colab\"/></a>"
      ]
    },
    {
      "cell_type": "code",
      "source": [
        "!pip install spikingjelly"
      ],
      "metadata": {
        "colab": {
          "base_uri": "https://localhost:8080/"
        },
        "collapsed": true,
        "id": "TQtxqdCs3A8m",
        "outputId": "a0538cbb-566e-4085-89ec-352bcc20dc0a"
      },
      "execution_count": 1,
      "outputs": [
        {
          "output_type": "stream",
          "name": "stdout",
          "text": [
            "Collecting spikingjelly\n",
            "  Downloading spikingjelly-0.0.0.0.14-py3-none-any.whl.metadata (15 kB)\n",
            "Requirement already satisfied: torch in /usr/local/lib/python3.10/dist-packages (from spikingjelly) (2.5.0+cu121)\n",
            "Requirement already satisfied: matplotlib in /usr/local/lib/python3.10/dist-packages (from spikingjelly) (3.8.0)\n",
            "Requirement already satisfied: numpy in /usr/local/lib/python3.10/dist-packages (from spikingjelly) (1.26.4)\n",
            "Requirement already satisfied: tqdm in /usr/local/lib/python3.10/dist-packages (from spikingjelly) (4.66.6)\n",
            "Requirement already satisfied: torchvision in /usr/local/lib/python3.10/dist-packages (from spikingjelly) (0.20.0+cu121)\n",
            "Requirement already satisfied: scipy in /usr/local/lib/python3.10/dist-packages (from spikingjelly) (1.13.1)\n",
            "Requirement already satisfied: contourpy>=1.0.1 in /usr/local/lib/python3.10/dist-packages (from matplotlib->spikingjelly) (1.3.0)\n",
            "Requirement already satisfied: cycler>=0.10 in /usr/local/lib/python3.10/dist-packages (from matplotlib->spikingjelly) (0.12.1)\n",
            "Requirement already satisfied: fonttools>=4.22.0 in /usr/local/lib/python3.10/dist-packages (from matplotlib->spikingjelly) (4.54.1)\n",
            "Requirement already satisfied: kiwisolver>=1.0.1 in /usr/local/lib/python3.10/dist-packages (from matplotlib->spikingjelly) (1.4.7)\n",
            "Requirement already satisfied: packaging>=20.0 in /usr/local/lib/python3.10/dist-packages (from matplotlib->spikingjelly) (24.1)\n",
            "Requirement already satisfied: pillow>=6.2.0 in /usr/local/lib/python3.10/dist-packages (from matplotlib->spikingjelly) (10.4.0)\n",
            "Requirement already satisfied: pyparsing>=2.3.1 in /usr/local/lib/python3.10/dist-packages (from matplotlib->spikingjelly) (3.2.0)\n",
            "Requirement already satisfied: python-dateutil>=2.7 in /usr/local/lib/python3.10/dist-packages (from matplotlib->spikingjelly) (2.8.2)\n",
            "Requirement already satisfied: filelock in /usr/local/lib/python3.10/dist-packages (from torch->spikingjelly) (3.16.1)\n",
            "Requirement already satisfied: typing-extensions>=4.8.0 in /usr/local/lib/python3.10/dist-packages (from torch->spikingjelly) (4.12.2)\n",
            "Requirement already satisfied: networkx in /usr/local/lib/python3.10/dist-packages (from torch->spikingjelly) (3.4.2)\n",
            "Requirement already satisfied: jinja2 in /usr/local/lib/python3.10/dist-packages (from torch->spikingjelly) (3.1.4)\n",
            "Requirement already satisfied: fsspec in /usr/local/lib/python3.10/dist-packages (from torch->spikingjelly) (2024.10.0)\n",
            "Requirement already satisfied: sympy==1.13.1 in /usr/local/lib/python3.10/dist-packages (from torch->spikingjelly) (1.13.1)\n",
            "Requirement already satisfied: mpmath<1.4,>=1.1.0 in /usr/local/lib/python3.10/dist-packages (from sympy==1.13.1->torch->spikingjelly) (1.3.0)\n",
            "Requirement already satisfied: six>=1.5 in /usr/local/lib/python3.10/dist-packages (from python-dateutil>=2.7->matplotlib->spikingjelly) (1.16.0)\n",
            "Requirement already satisfied: MarkupSafe>=2.0 in /usr/local/lib/python3.10/dist-packages (from jinja2->torch->spikingjelly) (3.0.2)\n",
            "Downloading spikingjelly-0.0.0.0.14-py3-none-any.whl (437 kB)\n",
            "\u001b[2K   \u001b[90m━━━━━━━━━━━━━━━━━━━━━━━━━━━━━━━━━━━━━━━━\u001b[0m \u001b[32m437.6/437.6 kB\u001b[0m \u001b[31m5.3 MB/s\u001b[0m eta \u001b[36m0:00:00\u001b[0m\n",
            "\u001b[?25hInstalling collected packages: spikingjelly\n",
            "Successfully installed spikingjelly-0.0.0.0.14\n"
          ]
        }
      ]
    },
    {
      "cell_type": "code",
      "execution_count": 5,
      "metadata": {
        "id": "oXsc5BSutaUw"
      },
      "outputs": [],
      "source": [
        "import torch\n",
        "import torch.nn as nn\n",
        "\n",
        "import spikingjelly\n",
        "from spikingjelly.activation_based import neuron, layer as Snn, functional as SF\n",
        "\n",
        "from tqdm import tqdm"
      ]
    },
    {
      "cell_type": "code",
      "source": [
        "class SepConv(nn.Module):\n",
        "    def __init__(self, inc, outc, stride=1):\n",
        "        super(SepConv, self).__init__()\n",
        "        self.stride = stride\n",
        "        self.layer = nn.Sequential(\n",
        "            Snn.Conv2d(inc, inc, 3, self.stride, 1, groups=inc, bias=False),\n",
        "            neuron.IFNode(),\n",
        "            Snn.Conv2d(inc, outc, 1, bias=False)\n",
        "        )\n",
        "    def forward(self, x):\n",
        "        x = self.layer(x)\n",
        "        return x\n",
        "\n",
        "class BasicBlock(nn.Module):\n",
        "    def __init__(self, inc, outc, lif=True):\n",
        "        super(BasicBlock, self).__init__()\n",
        "        self.down_sample = True if inc != outc else False\n",
        "        self.stride = 2 if self.down_sample else 1\n",
        "        self.conv1x1 = Snn.Conv2d(inc, outc, 2, 2, bias=False)\n",
        "        layer = []\n",
        "        layer.append(neuron.IFNode()) if lif else None\n",
        "        layer.append(SepConv(inc, outc, self.stride))\n",
        "        layer.append(Snn.BatchNorm2d(outc))\n",
        "        layer.append(neuron.IFNode())\n",
        "        layer.append(SepConv(outc, outc))\n",
        "        layer.append(Snn.BatchNorm2d(outc))\n",
        "        self.layer = nn.Sequential(*layer)\n",
        "\n",
        "    def forward(self, x):\n",
        "        out = self.layer(x)\n",
        "        if self.down_sample:\n",
        "            x = self.conv1x1(x)\n",
        "        out += x\n",
        "        return out\n",
        "\n",
        "class S_Xception(nn.Module):\n",
        "    def __init__(self, T):\n",
        "        super(S_Xception, self).__init__()\n",
        "        self.T = T\n",
        "        self.first = nn.Sequential(\n",
        "            Snn.Conv2d(3, 32, 3, 2, 1, bias=False),\n",
        "            Snn.BatchNorm2d(32),\n",
        "            neuron.IFNode()\n",
        "        )\n",
        "        self.block1 = BasicBlock(32, 64, False)\n",
        "        self.block2 = BasicBlock(64, 64)\n",
        "        self.block3 = BasicBlock(64, 64)\n",
        "        self.block4 = BasicBlock(64, 128)\n",
        "        self.last = nn.Sequential(\n",
        "            SepConv(128, 256),\n",
        "            Snn.BatchNorm2d(256),\n",
        "            neuron.IFNode(),\n",
        "            Snn.AdaptiveAvgPool2d((1, 1)),\n",
        "            Snn.Flatten(),\n",
        "            Snn.Linear(256, 64)\n",
        "        )\n",
        "        SF.set_step_mode(self, 'm')\n",
        "    def forward(self, x):# N, C, H, W -> T, N, D\n",
        "        SF.reset_net(self)\n",
        "        x = x.unsqueeze(0).repeat(self.T, 1, 1, 1, 1)\n",
        "        x = self.first(x)\n",
        "        x = self.block1(x)\n",
        "        x = self.block2(x)\n",
        "        x = self.block3(x)\n",
        "        x = self.block4(x)\n",
        "        x = self.last(x)\n",
        "        return x"
      ],
      "metadata": {
        "id": "wyx794zkuLMR"
      },
      "execution_count": 23,
      "outputs": []
    },
    {
      "cell_type": "code",
      "source": [
        "#preview\n",
        "x = torch.rand(4, 3, 32, 32)\n",
        "model = S_Xception(2)\n",
        "total_params = sum(p.numel() for p in model.parameters())\n",
        "print(total_params)\n",
        "out = model(x)\n",
        "print(out.shape)"
      ],
      "metadata": {
        "colab": {
          "base_uri": "https://localhost:8080/"
        },
        "id": "jUYlFjV42W6T",
        "outputId": "ee1179b6-738b-4f4d-ef2e-f0ae1c0cd2db"
      },
      "execution_count": 24,
      "outputs": [
        {
          "output_type": "stream",
          "name": "stdout",
          "text": [
            "178816\n",
            "torch.Size([2, 4, 64])\n"
          ]
        }
      ]
    }
  ]
}